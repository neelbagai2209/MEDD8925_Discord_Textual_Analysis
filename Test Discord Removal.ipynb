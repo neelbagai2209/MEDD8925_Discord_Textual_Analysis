{
 "cells": [
  {
   "cell_type": "code",
   "execution_count": 1,
   "id": "92c7afd3",
   "metadata": {},
   "outputs": [
    {
     "name": "stderr",
     "output_type": "stream",
     "text": [
      "[nltk_data] Downloading package stopwords to\n",
      "[nltk_data]     C:\\Users\\neelb\\AppData\\Roaming\\nltk_data...\n",
      "[nltk_data]   Package stopwords is already up-to-date!\n",
      "[nltk_data] Downloading package punkt to\n",
      "[nltk_data]     C:\\Users\\neelb\\AppData\\Roaming\\nltk_data...\n",
      "[nltk_data]   Package punkt is already up-to-date!\n",
      "[nltk_data] Downloading package wordnet to\n",
      "[nltk_data]     C:\\Users\\neelb\\AppData\\Roaming\\nltk_data...\n",
      "[nltk_data]   Package wordnet is already up-to-date!\n"
     ]
    }
   ],
   "source": [
    "import re\n",
    "import emoji\n",
    "import nltk\n",
    "from nltk.corpus import stopwords\n",
    "from nltk.tokenize import word_tokenize\n",
    "from nltk.stem import WordNetLemmatizer\n",
    "\n",
    "# Download necessary NLTK resources (run this once)\n",
    "nltk.download('stopwords')\n",
    "nltk.download('punkt')\n",
    "nltk.download('wordnet')\n",
    "\n",
    "lemmatizer = WordNetLemmatizer()\n",
    "stop_words = set(stopwords.words(\"english\"))"
   ]
  },
  {
   "cell_type": "code",
   "execution_count": 2,
   "id": "db622315",
   "metadata": {},
   "outputs": [],
   "source": [
    "# Remove usernames\n",
    "def remove_usernames(text):\n",
    "    text = re.sub(r\"\\b[\\w.\\s]+(?=\\s*:)\", \" \", text)\n",
    "    text = \" \".join(text.split())  # Clean up extra spaces\n",
    "    return text\n",
    "\n",
    "# Remove bot commands\n",
    "def remove_bot_commands(text):\n",
    "    text = re.sub(r'\\?\\w+\\s?@\\w+', '', text)\n",
    "    text = re.sub(r'!\\w+\\s?@\\w+', '', text)\n",
    "    text = re.sub(r'@\\w+', '', text)\n",
    "    return text\n",
    "\n",
    "# Fix concatenated 'n'\n",
    "def fix_concatenated_n(text):\n",
    "    text = re.sub(r'(\\w)n(\\w)', r'\\1 n \\2', text)\n",
    "    return text\n",
    "\n",
    "# Format text\n",
    "def format_text(text):\n",
    "    text = re.sub(r'\\s*\\n\\s*', ' ', text)\n",
    "    text = re.sub(r'(?<=[.,!?])(?=\\S)', ' ', text)\n",
    "    text = re.sub(r\"[^a-zA-Z0-9\\s.,!?']\", \"\", text)\n",
    "    text = \" \".join(text.split())\n",
    "    return text"
   ]
  },
  {
   "cell_type": "code",
   "execution_count": 3,
   "id": "e09809ba",
   "metadata": {},
   "outputs": [],
   "source": [
    "def clean_text(text):\n",
    "    text = remove_usernames(text)\n",
    "    text = remove_bot_commands(text)\n",
    "    text = fix_concatenated_n(text)\n",
    "    text = format_text(text)\n",
    "    text = emoji.replace_emoji(text, replace=\"\")\n",
    "    text = text.lower().strip()\n",
    "    return text"
   ]
  },
  {
   "cell_type": "code",
   "execution_count": 4,
   "id": "c518db28",
   "metadata": {},
   "outputs": [],
   "source": [
    "def clean_text_file(input_file, output_file):\n",
    "    \"\"\"\n",
    "    Reads a text file, cleans its contents, and writes the cleaned data to a new file.\n",
    "    \"\"\"\n",
    "    cleaned_lines = []\n",
    "\n",
    "    with open(input_file, 'r', encoding='utf-8') as file:\n",
    "        for line in file:\n",
    "            cleaned_line = clean_text(line)  # Apply the cleaning pipeline\n",
    "            cleaned_lines.append(cleaned_line.strip())\n",
    "\n",
    "    # Write the cleaned data to the output file\n",
    "    with open(output_file, 'w', encoding='utf-8') as file:\n",
    "        file.write(\"\\n\".join(cleaned_lines))"
   ]
  },
  {
   "cell_type": "code",
   "execution_count": 5,
   "id": "9c7e8de7",
   "metadata": {},
   "outputs": [],
   "source": [
    "import os\n",
    "\n",
    "def process_all_files(input_folder, output_folder):\n",
    "    \"\"\"\n",
    "    Processes all text files in the input folder, cleans them, and saves the results in the output folder.\n",
    "    \"\"\"\n",
    "    # Create the output folder if it doesn't exist\n",
    "    os.makedirs(output_folder, exist_ok=True)\n",
    "\n",
    "    # Process each text file in the input folder\n",
    "    for filename in os.listdir(input_folder):\n",
    "        if filename.endswith(\".txt\"):\n",
    "            input_file_path = os.path.join(input_folder, filename)\n",
    "            output_file_name = os.path.splitext(filename)[0] + \"_Cleaned.txt\"\n",
    "            output_file_path = os.path.join(output_folder, output_file_name)\n",
    "\n",
    "            clean_text_file(input_file_path, output_file_path)\n",
    "            print(f\"✅ Processed and cleaned: {filename}\")\n",
    "\n",
    "    print(f\"✅ All files cleaned and saved in {output_folder}\")"
   ]
  },
  {
   "cell_type": "code",
   "execution_count": null,
   "id": "35d53ef0",
   "metadata": {},
   "outputs": [
    {
     "name": "stdout",
     "output_type": "stream",
     "text": [
      "✅ Processed and cleaned: [298954459172700181] [part 10].txt\n",
      "✅ Processed and cleaned: [298954459172700181] [part 11].txt\n",
      "✅ Processed and cleaned: [298954459172700181] [part 12].txt\n",
      "✅ Processed and cleaned: [298954459172700181] [part 13].txt\n",
      "✅ Processed and cleaned: [298954459172700181] [part 2].txt\n",
      "✅ Processed and cleaned: [298954459172700181] [part 3].txt\n"
     ]
    }
   ],
   "source": [
    "# Define input and output folders\n",
    "input_folder = r\"C:\\Users\\neelb\\Desktop\\MEDD8925 - Analyzing Data Quantitatively\\MEDD8925 Discord Project\\Discord Data v3 Antispam\"\n",
    "output_folder = r\"C:\\Users\\neelb\\Desktop\\MEDD8925 - Analyzing Data Quantitatively\\MEDD8925 Discord Project\\Test Cleaned Discord Data\"\n",
    "\n",
    "# Process all files in the folder\n",
    "process_all_files(input_folder, output_folder)"
   ]
  },
  {
   "cell_type": "code",
   "execution_count": null,
   "id": "c991d5d4",
   "metadata": {},
   "outputs": [],
   "source": []
  },
  {
   "cell_type": "code",
   "execution_count": null,
   "id": "8b7fd104",
   "metadata": {},
   "outputs": [],
   "source": []
  },
  {
   "cell_type": "code",
   "execution_count": null,
   "id": "2d4d2f3e",
   "metadata": {},
   "outputs": [],
   "source": []
  },
  {
   "cell_type": "code",
   "execution_count": null,
   "id": "a8b060d1",
   "metadata": {},
   "outputs": [],
   "source": []
  },
  {
   "cell_type": "code",
   "execution_count": null,
   "id": "fc02240e",
   "metadata": {},
   "outputs": [],
   "source": []
  },
  {
   "cell_type": "code",
   "execution_count": null,
   "id": "4c6af7f6",
   "metadata": {},
   "outputs": [],
   "source": []
  },
  {
   "cell_type": "code",
   "execution_count": null,
   "id": "6194eaa8",
   "metadata": {},
   "outputs": [],
   "source": []
  },
  {
   "cell_type": "code",
   "execution_count": null,
   "id": "6bcb3f22",
   "metadata": {},
   "outputs": [],
   "source": []
  },
  {
   "cell_type": "code",
   "execution_count": null,
   "id": "8dc35401",
   "metadata": {},
   "outputs": [],
   "source": []
  }
 ],
 "metadata": {
  "kernelspec": {
   "display_name": "Python 3 (ipykernel)",
   "language": "python",
   "name": "python3"
  },
  "language_info": {
   "codemirror_mode": {
    "name": "ipython",
    "version": 3
   },
   "file_extension": ".py",
   "mimetype": "text/x-python",
   "name": "python",
   "nbconvert_exporter": "python",
   "pygments_lexer": "ipython3",
   "version": "3.11.5"
  }
 },
 "nbformat": 4,
 "nbformat_minor": 5
}
