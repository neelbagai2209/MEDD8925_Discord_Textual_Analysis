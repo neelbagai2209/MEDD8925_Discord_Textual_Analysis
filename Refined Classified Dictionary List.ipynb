{
 "cells": [
  {
   "cell_type": "code",
   "execution_count": 3,
   "id": "0a1769d0",
   "metadata": {},
   "outputs": [
    {
     "name": "stdout",
     "output_type": "stream",
     "text": [
      "Refined file saved to C:\\Users\\neelb\\Desktop\\MEDD8925 - Analyzing Data Quantitatively\\MEDD8925 Discord Project\\refined_classified_keywords.csv\n",
      "        type  pos  headword  freq_tar  freq_ref  range_tar  likelihood  \\\n",
      "50      like  NaN       NaN   1137753         0        735   16296.168   \n",
      "53        im  NaN       NaN   1099153         0        736   15741.881   \n",
      "61   welcome  NaN       NaN    784070         0        729   11221.085   \n",
      "110      get  NaN       NaN    624800         0        736    8938.409   \n",
      "121       oh  NaN       NaN    607688         0        734    8693.258   \n",
      "\n",
      "     effect     word    category    subcategory  \n",
      "50    0.011     LIKE  ADJECTIVES        ADJ.ALL  \n",
      "53    0.010      NaN         NaN            NaN  \n",
      "61    0.007  WELCOME  ADJECTIVES        ADJ.ALL  \n",
      "110   0.006      GET       VERBS      VERB.BODY  \n",
      "121   0.006       OH       NOUNS  NOUN.LOCATION  \n"
     ]
    }
   ],
   "source": [
    "import pandas as pd\n",
    "\n",
    "# File paths\n",
    "input_path = r\"C:\\Users\\neelb\\Desktop\\MEDD8925 - Analyzing Data Quantitatively\\MEDD8925 Discord Project\\classified_keywords.csv\"\n",
    "output_path = r\"C:\\Users\\neelb\\Desktop\\MEDD8925 - Analyzing Data Quantitatively\\MEDD8925 Discord Project\\refined_classified_keywords.csv\"\n",
    "\n",
    "# Load CSV\n",
    "df = pd.read_csv(input_path)\n",
    "\n",
    "# Remove rows where 'type' is duplicated (keep first)\n",
    "df = df.drop_duplicates(subset=['type'])\n",
    "\n",
    "# Remove rows where 'type' is a single letter or blank/empty/NaN\n",
    "df = df[df['type'].apply(lambda x: isinstance(x, str) and len(x.strip()) > 1)]\n",
    "\n",
    "# Drop unwanted columns by name\n",
    "columns_to_drop = [\n",
    "    'range_ref',            # G\n",
    "    'lower_word',           # J\n",
    "    'lower_worc word',      # K (typo in your sheet? adjust as needed)\n",
    "    'source_file'           # P\n",
    "]\n",
    "df = df.drop(columns=[col for col in columns_to_drop if col in df.columns], errors='ignore')\n",
    "\n",
    "# Save to new CSV\n",
    "df.to_csv(output_path, index=False)\n",
    "print(f\"Refined file saved to {output_path}\")\n",
    "\n",
    "# Preview\n",
    "print(df.head())"
   ]
  },
  {
   "cell_type": "code",
   "execution_count": null,
   "id": "3e42762f",
   "metadata": {},
   "outputs": [],
   "source": []
  }
 ],
 "metadata": {
  "kernelspec": {
   "display_name": "Python 3 (ipykernel)",
   "language": "python",
   "name": "python3"
  },
  "language_info": {
   "codemirror_mode": {
    "name": "ipython",
    "version": 3
   },
   "file_extension": ".py",
   "mimetype": "text/x-python",
   "name": "python",
   "nbconvert_exporter": "python",
   "pygments_lexer": "ipython3",
   "version": "3.11.5"
  }
 },
 "nbformat": 4,
 "nbformat_minor": 5
}
